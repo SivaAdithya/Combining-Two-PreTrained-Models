{
 "cells": [
  {
   "cell_type": "code",
   "execution_count": 1,
   "metadata": {
    "id": "UiUSP_8QevXO"
   },
   "outputs": [],
   "source": [
    "import numpy as np\n",
    "import pandas as pd\n",
    "import tensorflow as tf\n",
    "from keras.preprocessing import image\n",
    "from tensorflow.keras.preprocessing.image import ImageDataGenerator\n",
    "from tensorflow.keras import Model\n",
    "from keras.layers import Dense, Flatten\n",
    "from keras.applications.vgg16 import VGG16\n",
    "from keras.models import Model\n",
    "from keras import optimizers"
   ]
  },
  {
   "cell_type": "code",
   "execution_count": 3,
   "metadata": {
    "id": "kK1q3hUofJQ3"
   },
   "outputs": [],
   "source": [
    "train_dir = 'chest_xray-20221112T154233Z-001/chest_xray/train'\n",
    "test_dir = 'chest_xray-20221112T154233Z-001/chest_xray//test'"
   ]
  },
  {
   "cell_type": "code",
   "execution_count": 4,
   "metadata": {
    "id": "-Us3VHf_fRoa"
   },
   "outputs": [],
   "source": [
    "size = [224,224,3]"
   ]
  },
  {
   "cell_type": "code",
   "execution_count": 5,
   "metadata": {
    "id": "mXttZkfefUs1"
   },
   "outputs": [],
   "source": [
    "img_aug = ImageDataGenerator(width_shift_range=0.2, height_shift_range=0.2, zoom_range=0.2, fill_mode='nearest')"
   ]
  },
  {
   "cell_type": "code",
   "execution_count": 6,
   "metadata": {
    "colab": {
     "base_uri": "https://localhost:8080/"
    },
    "id": "eF0AU3oafcUA",
    "outputId": "c6224b1b-3af0-407a-b853-e38132506397"
   },
   "outputs": [
    {
     "name": "stdout",
     "output_type": "stream",
     "text": [
      "Found 5216 images belonging to 2 classes.\n",
      "Found 624 images belonging to 2 classes.\n"
     ]
    }
   ],
   "source": [
    "train_data = img_aug.flow_from_directory(train_dir, target_size=(224,224), batch_size=16, class_mode='categorical')\n",
    "test_data = img_aug.flow_from_directory(test_dir, target_size=(224,224), batch_size=16, class_mode='categorical')"
   ]
  },
  {
   "cell_type": "code",
   "execution_count": 10,
   "metadata": {
    "colab": {
     "base_uri": "https://localhost:8080/"
    },
    "id": "GyOmGARIda5I",
    "outputId": "fa5a9836-8099-45ec-cab0-65ddefb767f9"
   },
   "outputs": [],
   "source": [
    "def build_model1():\n",
    "    vgg16 = tf.keras.applications.VGG16(weights=\"imagenet\", include_top = False, input_shape = size)\n",
    "    x = Flatten()(vgg16.output)\n",
    "    x = Dense(64, activation = 'relu')(x)\n",
    "    x = Dense(32, activation = 'relu')(x)\n",
    "    x = Dense(16, activation = 'relu')(x)\n",
    "    mod = Dense(4, activation = 'relu')(x)\n",
    "    model = Model(inputs = vgg16.input, outputs = mod)\n",
    "    return model\n",
    "\n",
    "\n",
    "def build_model2():\n",
    "    mbnet = tf.keras.applications.MobileNetV2(weights=\"imagenet\", include_top = False, input_shape = size)\n",
    "    x = Flatten()(mbnet.output)\n",
    "    x = Dense(64, activation = 'relu')(x)\n",
    "    x = Dense(32, activation = 'relu')(x)\n",
    "    x = Dense(16, activation = 'relu')(x)\n",
    "    mod = Dense(4, activation = 'relu')(x)\n",
    "    model = Model(inputs = mbnet.input, outputs = mod)\n",
    "    return model\n",
    "\n",
    "inputs = tf.keras.layers.Input(shape=size)\n",
    "model1 = build_model1()\n",
    "model2 = build_model2()\n",
    "combined = tf.keras.layers.Concatenate()([model1(inputs), model2(inputs)])\n",
    "outputs = Dense(2, activation = 'softmax')(combined)\n",
    "model = Model(inputs, outputs)"
   ]
  },
  {
   "cell_type": "code",
   "execution_count": 11,
   "metadata": {
    "colab": {
     "base_uri": "https://localhost:8080/"
    },
    "id": "q5uOkZ6IgtAh",
    "outputId": "8614728d-76df-4e68-b39a-e1489709d154"
   },
   "outputs": [],
   "source": [
    "model.compile(optimizer=optimizers.Adam(lr=0.0001), loss='categorical_crossentropy', metrics=['accuracy'])"
   ]
  },
  {
   "cell_type": "code",
   "execution_count": 12,
   "metadata": {
    "colab": {
     "base_uri": "https://localhost:8080/"
    },
    "id": "JWb78gkJgz8X",
    "outputId": "944fd8c0-a130-431a-e5c9-57eb38ff4227"
   },
   "outputs": [
    {
     "name": "stdout",
     "output_type": "stream",
     "text": [
      "Epoch 1/5\n",
      "326/326 [==============================] - 4251s 13s/step - loss: 0.1838 - accuracy: 0.9285\n",
      "Epoch 2/5\n",
      "326/326 [==============================] - 4009s 12s/step - loss: 0.0894 - accuracy: 0.9636\n",
      "Epoch 3/5\n",
      "326/326 [==============================] - 4089s 13s/step - loss: 0.0779 - accuracy: 0.9720\n",
      "Epoch 4/5\n",
      "326/326 [==============================] - 3896s 12s/step - loss: 0.0661 - accuracy: 0.9749\n",
      "Epoch 5/5\n",
      "326/326 [==============================] - 4034s 12s/step - loss: 0.0593 - accuracy: 0.9772\n"
     ]
    },
    {
     "data": {
      "text/plain": [
       "<keras.callbacks.History at 0x1e468b85f70>"
      ]
     },
     "execution_count": 12,
     "metadata": {},
     "output_type": "execute_result"
    }
   ],
   "source": [
    "model.fit(train_data, epochs = 5, verbose = 1)"
   ]
  },
  {
   "cell_type": "code",
   "execution_count": 13,
   "metadata": {
    "colab": {
     "base_uri": "https://localhost:8080/"
    },
    "id": "4c6bakF7eDJA",
    "outputId": "60d097a8-f9b2-4b8b-c973-45b0b9b894d1"
   },
   "outputs": [
    {
     "name": "stdout",
     "output_type": "stream",
     "text": [
      "39/39 [==============================] - 124s 3s/step\n"
     ]
    }
   ],
   "source": [
    "preds = model.predict(test_data)\n",
    "true_classes = test_data.classes\n",
    "mod_pred_classes = np.argmax(preds, axis=1)"
   ]
  },
  {
   "cell_type": "code",
   "execution_count": 14,
   "metadata": {
    "colab": {
     "base_uri": "https://localhost:8080/"
    },
    "id": "zkUryfXknm2U",
    "outputId": "55b7e8ec-ceea-44c8-c95b-b5acb4202a0e"
   },
   "outputs": [
    {
     "name": "stdout",
     "output_type": "stream",
     "text": [
      "Model Accuracy: 60.74%\n"
     ]
    }
   ],
   "source": [
    "from sklearn.metrics import accuracy_score\n",
    "\n",
    "mod_acc = accuracy_score(true_classes, mod_pred_classes)\n",
    "print(\"Model Accuracy: {:.4}%\".format(mod_acc * 100))"
   ]
  },
  {
   "cell_type": "code",
   "execution_count": 21,
   "metadata": {
    "id": "6xxZTZZ5qDXo"
   },
   "outputs": [
    {
     "name": "stdout",
     "output_type": "stream",
     "text": [
      "              precision    recall  f1-score   support\n",
      "\n",
      "           0       0.06      0.36      0.10        39\n",
      "           1       0.94      0.62      0.75       585\n",
      "\n",
      "    accuracy                           0.61       624\n",
      "   macro avg       0.50      0.49      0.43       624\n",
      "weighted avg       0.88      0.61      0.71       624\n",
      "\n"
     ]
    }
   ],
   "source": [
    "from sklearn.metrics import classification_report\n",
    "print(classification_report(mod_pred_classes,true_classes))"
   ]
  },
  {
   "cell_type": "code",
   "execution_count": null,
   "metadata": {},
   "outputs": [],
   "source": []
  }
 ],
 "metadata": {
  "colab": {
   "collapsed_sections": [],
   "provenance": []
  },
  "kernelspec": {
   "display_name": "Python 3 (ipykernel)",
   "language": "python",
   "name": "python3"
  },
  "language_info": {
   "codemirror_mode": {
    "name": "ipython",
    "version": 3
   },
   "file_extension": ".py",
   "mimetype": "text/x-python",
   "name": "python",
   "nbconvert_exporter": "python",
   "pygments_lexer": "ipython3",
   "version": "3.9.12"
  }
 },
 "nbformat": 4,
 "nbformat_minor": 1
}
